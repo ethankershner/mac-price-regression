{
 "cells": [
  {
   "cell_type": "markdown",
   "id": "possible-rachel",
   "metadata": {},
   "source": [
    "# Ebay Mac Price Regression Analysis\n"
   ]
  },
  {
   "cell_type": "markdown",
   "id": "green-directory",
   "metadata": {},
   "source": [
    "## 0.1 Intent\n",
    "\n",
    "In this notebook I will perform multivariate linear regression analysis on data collected from eBay's API regarding the sale of Mac Minis in a 60-day time period. The script used to obtain this data is contained within this folder but is no longer functional due to API depreciation."
   ]
  },
  {
   "cell_type": "markdown",
   "id": "brave-packet",
   "metadata": {},
   "source": [
    "## 0.2 Data Description\n",
    "\n",
    "Following data collection the data was manually cleaned by removing listings that did not pertain to Mac Minis, had irregular or None input for any of the features listed below (i.e. \"16GB\" for \"Processor Speed\"), or included additional items.\n",
    "\n",
    "\n",
    "**listingType Values:**\n",
    "\n",
    "- Auction\n",
    "- FixedPrice (Indicates a Buy It Now offer)\n",
    "- Store Inventory\n",
    "\n",
    "**sellingState Values:**\n",
    "\n",
    "- EndedWithSales\n",
    "- EndedWithoutSales\n",
    "\n",
    "**hoursToSale:** Duration (in hours) until sale or closing of the listing without sale.\n",
    "\n",
    "**releaseYear:** Year the mac mini model was released. \n",
    "\n",
    "Only the years 2012, 2014, and 2018 were examined due to low counts of all other model years.\n",
    "\n",
    "**processorSpeed:** Speed, in Gigahertz of the processor.\n",
    "\n",
    "**Cores:** Number of core processors.\n",
    "\n",
    "**Memory:** Size of RAM in GB.\n",
    "\n",
    "**storageType:**\n",
    "\n",
    "- 0 : HDD (Hard drive)\n",
    "- 1 : SSD (Solid state drive)\n",
    "- 3 : HDD/SSD (Both included)\n",
    "- 4 : Fusion (A fusion drive)\n",
    "\n",
    "**totalSale:** Sale price including shipping and tax."
   ]
  },
  {
   "cell_type": "markdown",
   "id": "democratic-uncle",
   "metadata": {},
   "source": [
    "## 1. Import Dataset"
   ]
  },
  {
   "cell_type": "code",
   "execution_count": 1,
   "id": "composite-basin",
   "metadata": {},
   "outputs": [],
   "source": [
    "import pandas as pd  \n",
    "\n",
    "dataset = pd.read_csv('/Users/kersh/Documents/Github/Portfolio/eBay Mac Price Regression/macmini.csv')"
   ]
  },
  {
   "cell_type": "markdown",
   "id": "conditional-biography",
   "metadata": {},
   "source": [
    "## 2. Preprocess Dataset \n",
    "\n",
    "Here I will only be looking at auction listings. In addition, for the purposes of this analysis I will only consider listings that ended in a successful sale.\n",
    "\n",
    "Outliers with a sale price of >$2,000 are removed from the dataset (only 2 sold at a price this high)."
   ]
  },
  {
   "cell_type": "code",
   "execution_count": 2,
   "id": "latter-bonus",
   "metadata": {},
   "outputs": [
    {
     "data": {
      "text/html": [
       "<div>\n",
       "<style scoped>\n",
       "    .dataframe tbody tr th:only-of-type {\n",
       "        vertical-align: middle;\n",
       "    }\n",
       "\n",
       "    .dataframe tbody tr th {\n",
       "        vertical-align: top;\n",
       "    }\n",
       "\n",
       "    .dataframe thead th {\n",
       "        text-align: right;\n",
       "    }\n",
       "</style>\n",
       "<table border=\"1\" class=\"dataframe\">\n",
       "  <thead>\n",
       "    <tr style=\"text-align: right;\">\n",
       "      <th></th>\n",
       "      <th>hoursToSale</th>\n",
       "      <th>totalSale</th>\n",
       "      <th>releaseYear</th>\n",
       "      <th>processorSpeed</th>\n",
       "      <th>Cores</th>\n",
       "      <th>Memory</th>\n",
       "      <th>storageType</th>\n",
       "    </tr>\n",
       "  </thead>\n",
       "  <tbody>\n",
       "    <tr>\n",
       "      <th>0</th>\n",
       "      <td>0.2</td>\n",
       "      <td>152.80</td>\n",
       "      <td>2014</td>\n",
       "      <td>3.0</td>\n",
       "      <td>2</td>\n",
       "      <td>16</td>\n",
       "      <td>1</td>\n",
       "    </tr>\n",
       "    <tr>\n",
       "      <th>1</th>\n",
       "      <td>168.0</td>\n",
       "      <td>1200.00</td>\n",
       "      <td>2018</td>\n",
       "      <td>3.0</td>\n",
       "      <td>4</td>\n",
       "      <td>32</td>\n",
       "      <td>2</td>\n",
       "    </tr>\n",
       "    <tr>\n",
       "      <th>2</th>\n",
       "      <td>120.0</td>\n",
       "      <td>457.00</td>\n",
       "      <td>2014</td>\n",
       "      <td>1.4</td>\n",
       "      <td>2</td>\n",
       "      <td>4</td>\n",
       "      <td>1</td>\n",
       "    </tr>\n",
       "    <tr>\n",
       "      <th>3</th>\n",
       "      <td>168.0</td>\n",
       "      <td>653.15</td>\n",
       "      <td>2018</td>\n",
       "      <td>3.6</td>\n",
       "      <td>4</td>\n",
       "      <td>8</td>\n",
       "      <td>2</td>\n",
       "    </tr>\n",
       "    <tr>\n",
       "      <th>4</th>\n",
       "      <td>19.7</td>\n",
       "      <td>336.55</td>\n",
       "      <td>2014</td>\n",
       "      <td>3.0</td>\n",
       "      <td>2</td>\n",
       "      <td>16</td>\n",
       "      <td>3</td>\n",
       "    </tr>\n",
       "    <tr>\n",
       "      <th>...</th>\n",
       "      <td>...</td>\n",
       "      <td>...</td>\n",
       "      <td>...</td>\n",
       "      <td>...</td>\n",
       "      <td>...</td>\n",
       "      <td>...</td>\n",
       "      <td>...</td>\n",
       "    </tr>\n",
       "    <tr>\n",
       "      <th>576</th>\n",
       "      <td>120.0</td>\n",
       "      <td>438.00</td>\n",
       "      <td>2014</td>\n",
       "      <td>1.4</td>\n",
       "      <td>2</td>\n",
       "      <td>4</td>\n",
       "      <td>1</td>\n",
       "    </tr>\n",
       "    <tr>\n",
       "      <th>577</th>\n",
       "      <td>168.0</td>\n",
       "      <td>283.01</td>\n",
       "      <td>2014</td>\n",
       "      <td>2.6</td>\n",
       "      <td>2</td>\n",
       "      <td>8</td>\n",
       "      <td>1</td>\n",
       "    </tr>\n",
       "    <tr>\n",
       "      <th>578</th>\n",
       "      <td>120.0</td>\n",
       "      <td>285.00</td>\n",
       "      <td>2014</td>\n",
       "      <td>2.6</td>\n",
       "      <td>2</td>\n",
       "      <td>8</td>\n",
       "      <td>1</td>\n",
       "    </tr>\n",
       "    <tr>\n",
       "      <th>579</th>\n",
       "      <td>168.0</td>\n",
       "      <td>295.70</td>\n",
       "      <td>2014</td>\n",
       "      <td>2.6</td>\n",
       "      <td>2</td>\n",
       "      <td>8</td>\n",
       "      <td>1</td>\n",
       "    </tr>\n",
       "    <tr>\n",
       "      <th>580</th>\n",
       "      <td>168.0</td>\n",
       "      <td>131.50</td>\n",
       "      <td>2014</td>\n",
       "      <td>2.6</td>\n",
       "      <td>2</td>\n",
       "      <td>8</td>\n",
       "      <td>1</td>\n",
       "    </tr>\n",
       "  </tbody>\n",
       "</table>\n",
       "<p>581 rows × 7 columns</p>\n",
       "</div>"
      ],
      "text/plain": [
       "     hoursToSale  totalSale  releaseYear  processorSpeed  Cores  Memory  \\\n",
       "0            0.2     152.80         2014             3.0      2      16   \n",
       "1          168.0    1200.00         2018             3.0      4      32   \n",
       "2          120.0     457.00         2014             1.4      2       4   \n",
       "3          168.0     653.15         2018             3.6      4       8   \n",
       "4           19.7     336.55         2014             3.0      2      16   \n",
       "..           ...        ...          ...             ...    ...     ...   \n",
       "576        120.0     438.00         2014             1.4      2       4   \n",
       "577        168.0     283.01         2014             2.6      2       8   \n",
       "578        120.0     285.00         2014             2.6      2       8   \n",
       "579        168.0     295.70         2014             2.6      2       8   \n",
       "580        168.0     131.50         2014             2.6      2       8   \n",
       "\n",
       "     storageType  \n",
       "0              1  \n",
       "1              2  \n",
       "2              1  \n",
       "3              2  \n",
       "4              3  \n",
       "..           ...  \n",
       "576            1  \n",
       "577            1  \n",
       "578            1  \n",
       "579            1  \n",
       "580            1  \n",
       "\n",
       "[581 rows x 7 columns]"
      ]
     },
     "execution_count": 2,
     "metadata": {},
     "output_type": "execute_result"
    }
   ],
   "source": [
    "sold = dataset.loc[dataset['sellingState'] == 'EndedWithSales']\n",
    "\n",
    "auction = sold.loc[sold['listingType'] == 'Auction']\n",
    "\n",
    "# Remove outliers\n",
    "auction = auction[~(auction['totalSale'] > 2000)]\n",
    "\n",
    "# Reset index\n",
    "auction = auction.reset_index(drop=True)\n",
    "\n",
    "# Remove listingType and sellingState columns\n",
    "auction = auction.drop(['listingType','sellingState'],axis=1)\n",
    "\n",
    "auction"
   ]
  },
  {
   "cell_type": "markdown",
   "id": "intermediate-steps",
   "metadata": {},
   "source": [
    "## 3. Check for Multicollinearity\n",
    "\n",
    "High or near-perfect correlation between two variables, known as multicollinearity, violates the assumptions of multiple regression and indicates reduced model accuracy. Variables were therefore checked for very high levels of correlation using a correlation matrix and heatmap."
   ]
  },
  {
   "cell_type": "code",
   "execution_count": 3,
   "id": "sustained-reproduction",
   "metadata": {},
   "outputs": [
    {
     "data": {
      "text/html": [
       "<div>\n",
       "<style scoped>\n",
       "    .dataframe tbody tr th:only-of-type {\n",
       "        vertical-align: middle;\n",
       "    }\n",
       "\n",
       "    .dataframe tbody tr th {\n",
       "        vertical-align: top;\n",
       "    }\n",
       "\n",
       "    .dataframe thead th {\n",
       "        text-align: right;\n",
       "    }\n",
       "</style>\n",
       "<table border=\"1\" class=\"dataframe\">\n",
       "  <thead>\n",
       "    <tr style=\"text-align: right;\">\n",
       "      <th></th>\n",
       "      <th>hoursToSale</th>\n",
       "      <th>totalSale</th>\n",
       "      <th>releaseYear</th>\n",
       "      <th>processorSpeed</th>\n",
       "      <th>Cores</th>\n",
       "      <th>Memory</th>\n",
       "      <th>storageType</th>\n",
       "    </tr>\n",
       "  </thead>\n",
       "  <tbody>\n",
       "    <tr>\n",
       "      <th>hoursToSale</th>\n",
       "      <td>1.000000</td>\n",
       "      <td>0.032395</td>\n",
       "      <td>-0.072734</td>\n",
       "      <td>0.011696</td>\n",
       "      <td>0.014687</td>\n",
       "      <td>0.001964</td>\n",
       "      <td>-0.006808</td>\n",
       "    </tr>\n",
       "    <tr>\n",
       "      <th>totalSale</th>\n",
       "      <td>0.032395</td>\n",
       "      <td>1.000000</td>\n",
       "      <td>0.710926</td>\n",
       "      <td>0.453956</td>\n",
       "      <td>0.627411</td>\n",
       "      <td>0.665104</td>\n",
       "      <td>0.498971</td>\n",
       "    </tr>\n",
       "    <tr>\n",
       "      <th>releaseYear</th>\n",
       "      <td>-0.072734</td>\n",
       "      <td>0.710926</td>\n",
       "      <td>1.000000</td>\n",
       "      <td>0.461694</td>\n",
       "      <td>0.484664</td>\n",
       "      <td>0.341072</td>\n",
       "      <td>0.403189</td>\n",
       "    </tr>\n",
       "    <tr>\n",
       "      <th>processorSpeed</th>\n",
       "      <td>0.011696</td>\n",
       "      <td>0.453956</td>\n",
       "      <td>0.461694</td>\n",
       "      <td>1.000000</td>\n",
       "      <td>0.579078</td>\n",
       "      <td>0.431573</td>\n",
       "      <td>0.522509</td>\n",
       "    </tr>\n",
       "    <tr>\n",
       "      <th>Cores</th>\n",
       "      <td>0.014687</td>\n",
       "      <td>0.627411</td>\n",
       "      <td>0.484664</td>\n",
       "      <td>0.579078</td>\n",
       "      <td>1.000000</td>\n",
       "      <td>0.435096</td>\n",
       "      <td>0.506707</td>\n",
       "    </tr>\n",
       "    <tr>\n",
       "      <th>Memory</th>\n",
       "      <td>0.001964</td>\n",
       "      <td>0.665104</td>\n",
       "      <td>0.341072</td>\n",
       "      <td>0.431573</td>\n",
       "      <td>0.435096</td>\n",
       "      <td>1.000000</td>\n",
       "      <td>0.417104</td>\n",
       "    </tr>\n",
       "    <tr>\n",
       "      <th>storageType</th>\n",
       "      <td>-0.006808</td>\n",
       "      <td>0.498971</td>\n",
       "      <td>0.403189</td>\n",
       "      <td>0.522509</td>\n",
       "      <td>0.506707</td>\n",
       "      <td>0.417104</td>\n",
       "      <td>1.000000</td>\n",
       "    </tr>\n",
       "  </tbody>\n",
       "</table>\n",
       "</div>"
      ],
      "text/plain": [
       "                hoursToSale  totalSale  releaseYear  processorSpeed     Cores  \\\n",
       "hoursToSale        1.000000   0.032395    -0.072734        0.011696  0.014687   \n",
       "totalSale          0.032395   1.000000     0.710926        0.453956  0.627411   \n",
       "releaseYear       -0.072734   0.710926     1.000000        0.461694  0.484664   \n",
       "processorSpeed     0.011696   0.453956     0.461694        1.000000  0.579078   \n",
       "Cores              0.014687   0.627411     0.484664        0.579078  1.000000   \n",
       "Memory             0.001964   0.665104     0.341072        0.431573  0.435096   \n",
       "storageType       -0.006808   0.498971     0.403189        0.522509  0.506707   \n",
       "\n",
       "                  Memory  storageType  \n",
       "hoursToSale     0.001964    -0.006808  \n",
       "totalSale       0.665104     0.498971  \n",
       "releaseYear     0.341072     0.403189  \n",
       "processorSpeed  0.431573     0.522509  \n",
       "Cores           0.435096     0.506707  \n",
       "Memory          1.000000     0.417104  \n",
       "storageType     0.417104     1.000000  "
      ]
     },
     "metadata": {},
     "output_type": "display_data"
    }
   ],
   "source": [
    "# Calculate correlation matrix\n",
    "\n",
    "corr = auction.corr()\n",
    "\n",
    "display(corr)"
   ]
  },
  {
   "cell_type": "code",
   "execution_count": 4,
   "id": "patient-indonesia",
   "metadata": {
    "scrolled": true
   },
   "outputs": [
    {
     "data": {
      "text/plain": [
       "<AxesSubplot:>"
      ]
     },
     "execution_count": 4,
     "metadata": {},
     "output_type": "execute_result"
    },
    {
     "data": {
      "image/png": "[encoded data removed]",
      "text/plain": [
       "<Figure size 432x288 with 2 Axes>"
      ]
     },
     "metadata": {
      "needs_background": "light"
     },
     "output_type": "display_data"
    }
   ],
   "source": [
    "# Plot heatmap using Seaborn\n",
    "\n",
    "import seaborn as sns\n",
    "\n",
    "sns.heatmap(corr, xticklabels=corr.columns, yticklabels=corr.columns, cmap='RdBu')"
   ]
  },
  {
   "cell_type": "markdown",
   "id": "domestic-diana",
   "metadata": {},
   "source": [
    "Aside from hoursToSale, which showed no noteworthy correlation with any other variables, all variables were correlated with each other to some extent, but not to a degree indicating multicollinearity (>80%). Therefore no further steps to remove multicollinearity were required."
   ]
  },
  {
   "cell_type": "markdown",
   "id": "dirty-shelter",
   "metadata": {},
   "source": [
    "## 4. View Descriptive Statistics\n"
   ]
  },
  {
   "cell_type": "code",
   "execution_count": 5,
   "id": "japanese-cradle",
   "metadata": {},
   "outputs": [
    {
     "data": {
      "text/html": [
       "<div>\n",
       "<style scoped>\n",
       "    .dataframe tbody tr th:only-of-type {\n",
       "        vertical-align: middle;\n",
       "    }\n",
       "\n",
       "    .dataframe tbody tr th {\n",
       "        vertical-align: top;\n",
       "    }\n",
       "\n",
       "    .dataframe thead th {\n",
       "        text-align: right;\n",
       "    }\n",
       "</style>\n",
       "<table border=\"1\" class=\"dataframe\">\n",
       "  <thead>\n",
       "    <tr style=\"text-align: right;\">\n",
       "      <th></th>\n",
       "      <th>hoursToSale</th>\n",
       "      <th>totalSale</th>\n",
       "      <th>releaseYear</th>\n",
       "      <th>processorSpeed</th>\n",
       "      <th>Cores</th>\n",
       "      <th>Memory</th>\n",
       "      <th>storageType</th>\n",
       "    </tr>\n",
       "  </thead>\n",
       "  <tbody>\n",
       "    <tr>\n",
       "      <th>count</th>\n",
       "      <td>581.000000</td>\n",
       "      <td>581.000000</td>\n",
       "      <td>581.000000</td>\n",
       "      <td>581.000000</td>\n",
       "      <td>581.000000</td>\n",
       "      <td>581.000000</td>\n",
       "      <td>581.000000</td>\n",
       "    </tr>\n",
       "    <tr>\n",
       "      <th>mean</th>\n",
       "      <td>129.958520</td>\n",
       "      <td>385.322771</td>\n",
       "      <td>2014.251291</td>\n",
       "      <td>2.254045</td>\n",
       "      <td>2.512909</td>\n",
       "      <td>8.130809</td>\n",
       "      <td>1.323580</td>\n",
       "    </tr>\n",
       "    <tr>\n",
       "      <th>std</th>\n",
       "      <td>54.197546</td>\n",
       "      <td>260.398313</td>\n",
       "      <td>1.811511</td>\n",
       "      <td>0.708134</td>\n",
       "      <td>0.874104</td>\n",
       "      <td>7.983394</td>\n",
       "      <td>0.558889</td>\n",
       "    </tr>\n",
       "    <tr>\n",
       "      <th>min</th>\n",
       "      <td>0.000000</td>\n",
       "      <td>25.000000</td>\n",
       "      <td>2012.000000</td>\n",
       "      <td>1.400000</td>\n",
       "      <td>2.000000</td>\n",
       "      <td>4.000000</td>\n",
       "      <td>1.000000</td>\n",
       "    </tr>\n",
       "    <tr>\n",
       "      <th>25%</th>\n",
       "      <td>120.000000</td>\n",
       "      <td>222.500000</td>\n",
       "      <td>2014.000000</td>\n",
       "      <td>1.400000</td>\n",
       "      <td>2.000000</td>\n",
       "      <td>4.000000</td>\n",
       "      <td>1.000000</td>\n",
       "    </tr>\n",
       "    <tr>\n",
       "      <th>50%</th>\n",
       "      <td>120.000000</td>\n",
       "      <td>335.000000</td>\n",
       "      <td>2014.000000</td>\n",
       "      <td>2.500000</td>\n",
       "      <td>2.000000</td>\n",
       "      <td>4.000000</td>\n",
       "      <td>1.000000</td>\n",
       "    </tr>\n",
       "    <tr>\n",
       "      <th>75%</th>\n",
       "      <td>168.000000</td>\n",
       "      <td>406.750000</td>\n",
       "      <td>2014.000000</td>\n",
       "      <td>2.600000</td>\n",
       "      <td>4.000000</td>\n",
       "      <td>8.000000</td>\n",
       "      <td>2.000000</td>\n",
       "    </tr>\n",
       "    <tr>\n",
       "      <th>max</th>\n",
       "      <td>240.000000</td>\n",
       "      <td>1690.000000</td>\n",
       "      <td>2018.000000</td>\n",
       "      <td>3.600000</td>\n",
       "      <td>4.000000</td>\n",
       "      <td>64.000000</td>\n",
       "      <td>4.000000</td>\n",
       "    </tr>\n",
       "  </tbody>\n",
       "</table>\n",
       "</div>"
      ],
      "text/plain": [
       "       hoursToSale    totalSale  releaseYear  processorSpeed       Cores  \\\n",
       "count   581.000000   581.000000   581.000000      581.000000  581.000000   \n",
       "mean    129.958520   385.322771  2014.251291        2.254045    2.512909   \n",
       "std      54.197546   260.398313     1.811511        0.708134    0.874104   \n",
       "min       0.000000    25.000000  2012.000000        1.400000    2.000000   \n",
       "25%     120.000000   222.500000  2014.000000        1.400000    2.000000   \n",
       "50%     120.000000   335.000000  2014.000000        2.500000    2.000000   \n",
       "75%     168.000000   406.750000  2014.000000        2.600000    4.000000   \n",
       "max     240.000000  1690.000000  2018.000000        3.600000    4.000000   \n",
       "\n",
       "           Memory  storageType  \n",
       "count  581.000000   581.000000  \n",
       "mean     8.130809     1.323580  \n",
       "std      7.983394     0.558889  \n",
       "min      4.000000     1.000000  \n",
       "25%      4.000000     1.000000  \n",
       "50%      4.000000     1.000000  \n",
       "75%      8.000000     2.000000  \n",
       "max     64.000000     4.000000  "
      ]
     },
     "execution_count": 5,
     "metadata": {},
     "output_type": "execute_result"
    }
   ],
   "source": [
    "desc = auction.describe()\n",
    "desc"
   ]
  },
  {
   "cell_type": "markdown",
   "id": "fancy-secretary",
   "metadata": {},
   "source": [
    "Of noteworthy interest here is the high sales price standard deviation of 260.39, compared to the mean sale price of 385.32. This high level of variability will present a challenge for the model to overcome in order to create meaningful and accurate sales price estimates."
   ]
  },
  {
   "cell_type": "markdown",
   "id": "iraqi-extraction",
   "metadata": {},
   "source": [
    "## 5. Visualize the Data"
   ]
  },
  {
   "cell_type": "code",
   "execution_count": 6,
   "id": "bright-assistant",
   "metadata": {},
   "outputs": [
    {
     "data": {
      "image/png": "[encoded data removed]",
      "text/plain": [
       "<Figure size 432x288 with 1 Axes>"
      ]
     },
     "metadata": {},
     "output_type": "display_data"
    },
    {
     "data": {
      "image/png": "[encoded data removed]",
      "text/plain": [
       "<Figure size 360x360 with 1 Axes>"
      ]
     },
     "metadata": {},
     "output_type": "display_data"
    },
    {
     "data": {
      "image/png": "[encoded data removed]",
      "text/plain": [
       "<Figure size 360x360 with 1 Axes>"
      ]
     },
     "metadata": {},
     "output_type": "display_data"
    },
    {
     "data": {
      "image/png": "[encoded data removed]",
      "text/plain": [
       "<Figure size 360x360 with 1 Axes>"
      ]
     },
     "metadata": {},
     "output_type": "display_data"
    },
    {
     "data": {
      "image/png": "[encoded data removed]",
      "text/plain": [
       "<Figure size 360x360 with 1 Axes>"
      ]
     },
     "metadata": {},
     "output_type": "display_data"
    },
    {
     "data": {
      "image/png": "[encoded data removed]",
      "text/plain": [
       "<Figure size 360x360 with 1 Axes>"
      ]
     },
     "metadata": {},
     "output_type": "display_data"
    }
   ],
   "source": [
    "sns.set_theme(color_codes=True)\n",
    "\n",
    "plot = sns.scatterplot(x=\"hoursToSale\", y=\"totalSale\", data=auction)\n",
    "\n",
    "plot = sns.catplot(x=\"releaseYear\", y=\"totalSale\", data=auction) \n",
    "\n",
    "plot = sns.catplot(x=\"Memory\", y=\"totalSale\", data=auction)\n",
    "\n",
    "plot = sns.catplot(x=\"processorSpeed\", y=\"totalSale\", data=auction)\n",
    "\n",
    "plot = sns.catplot(x=\"Cores\", y=\"totalSale\", data=auction)\n",
    "\n",
    "plot = sns.catplot(x=\"storageType\", y=\"totalSale\", data=auction)\n"
   ]
  },
  {
   "cell_type": "markdown",
   "id": "liable-behavior",
   "metadata": {},
   "source": [
    "## 6. Build Regression Model"
   ]
  },
  {
   "cell_type": "markdown",
   "id": "present-outside",
   "metadata": {},
   "source": [
    "### 6.1 Get Dummy Variables"
   ]
  },
  {
   "cell_type": "markdown",
   "id": "pleased-magnet",
   "metadata": {},
   "source": [
    "Several variables in our model are categorical or best treated as such due to lack of continuity between values (release year, number of cores, and storage type). Because these variables cannot be directly entered into the regression model, they must first be converted to a series of one-hot encoded dummy variables. To prevent multicollinearity, the first column of each series of dummy variables is dropped."
   ]
  },
  {
   "cell_type": "code",
   "execution_count": 7,
   "id": "criminal-airline",
   "metadata": {},
   "outputs": [],
   "source": [
    "year_dummies = pd.get_dummies(auction['releaseYear'],drop_first=True)\n",
    "core_dummies = pd.get_dummies(auction['Cores'],drop_first=True)\n",
    "storage_dummies = pd.get_dummies(auction['storageType'],drop_first=True)"
   ]
  },
  {
   "cell_type": "markdown",
   "id": "posted-kinase",
   "metadata": {},
   "source": [
    "### 6.2 Build the Complete Dataset"
   ]
  },
  {
   "cell_type": "markdown",
   "id": "chemical-dakota",
   "metadata": {},
   "source": [
    "We now have everything we need to build the complete set of independent variables (X) and the target vector (Y)."
   ]
  },
  {
   "cell_type": "code",
   "execution_count": 8,
   "id": "hispanic-queensland",
   "metadata": {},
   "outputs": [],
   "source": [
    "X = [pd.DataFrame(auction[['hoursToSale','Memory','processorSpeed']]),year_dummies,core_dummies,storage_dummies]\n",
    "X = pd.concat(X,axis=1)\n",
    "\n",
    "Y = auction['totalSale']"
   ]
  },
  {
   "cell_type": "markdown",
   "id": "ongoing-flexibility",
   "metadata": {},
   "source": [
    "### 6.3 Get Train and Test Sets\n",
    "\n",
    "In order to ensure the results of our model generalize to data that the model was not trained on, it is best practice to split the data into train and test sets. This is done using scikitlearn's convenient test_train_split package."
   ]
  },
  {
   "cell_type": "code",
   "execution_count": 9,
   "id": "common-selling",
   "metadata": {},
   "outputs": [],
   "source": [
    "from sklearn.model_selection import train_test_split\n",
    "\n",
    "XTrain, XTest, YTrain, YTest = train_test_split(X, Y, test_size=0.25, random_state=1)"
   ]
  },
  {
   "cell_type": "markdown",
   "id": "complicated-imagination",
   "metadata": {},
   "source": [
    "### 6.4 Instantiate and Fit the Model"
   ]
  },
  {
   "cell_type": "code",
   "execution_count": 10,
   "id": "confidential-flavor",
   "metadata": {},
   "outputs": [
    {
     "data": {
      "text/plain": [
       "LinearRegression()"
      ]
     },
     "execution_count": 10,
     "metadata": {},
     "output_type": "execute_result"
    }
   ],
   "source": [
    "from sklearn.linear_model import LinearRegression\n",
    "\n",
    "model = LinearRegression()\n",
    "\n",
    "model.fit(XTrain,YTrain)"
   ]
  },
  {
   "cell_type": "markdown",
   "id": "bacterial-breakdown",
   "metadata": {},
   "source": [
    "### 6.5 View Intercept and Coefficients"
   ]
  },
  {
   "cell_type": "code",
   "execution_count": 11,
   "id": "lesser-syria",
   "metadata": {},
   "outputs": [
    {
     "name": "stdout",
     "output_type": "stream",
     "text": [
      "Intercept: 214.93719738723004\n",
      "0.2929556342826053\n",
      "12.964365735875063\n",
      "-56.723796519234426\n",
      "82.47345648019886\n",
      "489.1375847282913\n",
      "90.05985607384491\n",
      "1.4522280589840788\n",
      "98.32870286287502\n",
      "104.58444162661739\n"
     ]
    }
   ],
   "source": [
    "print('Intercept: {}'.format(model.intercept_))\n",
    "      \n",
    "for c in model.coef_:\n",
    "      print(c)"
   ]
  },
  {
   "cell_type": "markdown",
   "id": "internal-event",
   "metadata": {},
   "source": [
    "## 7. Evaluate the Model"
   ]
  },
  {
   "cell_type": "markdown",
   "id": "australian-status",
   "metadata": {},
   "source": [
    "### 7.1 Rebuild the Model using statsmodels"
   ]
  },
  {
   "cell_type": "code",
   "execution_count": 12,
   "id": "gentle-spectrum",
   "metadata": {},
   "outputs": [],
   "source": [
    "import statsmodels.api as sm\n",
    "\n",
    "# Adds a constant column to input\n",
    "X2 = sm.add_constant(X, prepend=False)\n",
    "\n",
    "regr = sm.OLS(Y, X2)\n",
    "\n",
    "pred = regr.fit()"
   ]
  },
  {
   "cell_type": "markdown",
   "id": "conscious-tongue",
   "metadata": {},
   "source": [
    "### 7.2 Test for Heteroscedasticity"
   ]
  },
  {
   "cell_type": "markdown",
   "id": "prescription-webster",
   "metadata": {},
   "source": [
    "When performing regression analysis it is important to check for heteroscedasticity. If it is present, this may indicate that coefficient estimates have reduced precision. Two tests are commonly used to detect heteroscedasticity in regression models: the Breusch-Pagan and White tests. Both tests attempt to reject the null hypothesis that there is no heteroscedasticity and product a p-value. For our purposes α = .05. \n",
    "\n",
    "Both tests are run using the statsmodels package."
   ]
  },
  {
   "cell_type": "code",
   "execution_count": 13,
   "id": "quarterly-hanging",
   "metadata": {},
   "outputs": [
    {
     "name": "stdout",
     "output_type": "stream",
     "text": [
      "1.6804160116947507e-10 4.146953495132328e-11\n",
      "----------------------------------------------------------------------------------------------------\n",
      "Breusch-Pagan's Test:\n",
      "p: 1.68e-10\n",
      "Heteroscedasticity detected.\n",
      "7.912803525802802e-08 1.1741164970513362e-08\n",
      "----------------------------------------------------------------------------------------------------\n",
      "White's Test:\n",
      "p: 7.913e-08\n",
      "Heteroscedasticity detected.\n"
     ]
    }
   ],
   "source": [
    "from statsmodels.stats import diagnostic as diag\n",
    "\n",
    "# Breusch-Pagan test\n",
    "_, pval, __, f_pval = diag.het_breuschpagan(pred.resid, pred.model.exog)\n",
    "print(pval, f_pval)\n",
    "print('-'*100)\n",
    "\n",
    "if pval > 0.05:\n",
    "    print(\"Breusch-Pagan's Test:\")\n",
    "    print(\"P-value {:.4}\".format(pval))\n",
    "    print('No heteroscedasticity detected.')\n",
    "\n",
    "else:\n",
    "    print(\"Breusch-Pagan's Test:\")\n",
    "    print(\"p: {:.4}\".format(pval))\n",
    "    print('Heteroscedasticity detected.')\n",
    "    \n",
    "# White's test\n",
    "_, pval, __, f_pval = diag.het_white(pred.resid, pred.model.exog)\n",
    "print(pval, f_pval)\n",
    "print('-'*100)\n",
    "\n",
    "if pval > 0.05:\n",
    "    print(\"White's Test:\")\n",
    "    print(\"p: {:.4}\".format(pval))\n",
    "    print('No heteroscedasticity detected.')\n",
    "    \n",
    "else:\n",
    "    print(\"White's Test:\")\n",
    "    print(\"p: {:.4}\".format(pval))\n",
    "    print('Heteroscedasticity detected.')"
   ]
  },
  {
   "cell_type": "markdown",
   "id": "occupational-cotton",
   "metadata": {},
   "source": [
    "Here both tests detected heteroscedasticity in our model. This makes intuitive sense with respect to the graphs produced in section 5 which show unequal variances in price among different groups. While this reduces the model's statistical validity to some extent, it does not make our model's prediction less useful in practice."
   ]
  },
  {
   "cell_type": "markdown",
   "id": "swedish-submission",
   "metadata": {},
   "source": [
    "### 7.3 Test for Autocorrelation"
   ]
  },
  {
   "cell_type": "markdown",
   "id": "enabling-mathematics",
   "metadata": {},
   "source": [
    "Autocorrelation is present when errors are not independent of eachother, violating the assumptions of the model. Autocorrelation is tested using the Ljung-Box test."
   ]
  },
  {
   "cell_type": "code",
   "execution_count": 14,
   "id": "ordered-alfred",
   "metadata": {},
   "outputs": [
    {
     "name": "stdout",
     "output_type": "stream",
     "text": [
      "Number of lags: 10\n",
      "----------------------------------------------------------------------------------------------------\n",
      "The lowest p-value found was 0.1905\n",
      "No autocorrelation.\n",
      "----------------------------------------------------------------------------------------------------\n"
     ]
    }
   ],
   "source": [
    "# Calculate the lag\n",
    "lag = min(10, (len(X)//5))\n",
    "print('Number of lags: {}'.format(lag))\n",
    "print('-'*100)\n",
    "\n",
    "test_results = diag.acorr_ljungbox(pred.resid, lags = lag, return_df = False)\n",
    "\n",
    "ibvalue, p_val = test_results\n",
    "\n",
    "if min(p_val) > 0.05:\n",
    "    print(\"The lowest p-value found was {:.4}\".format(min(p_val)))\n",
    "    print(\"No autocorrelation.\")\n",
    "    print('-'*100)\n",
    "else:\n",
    "    print(\"The lowest p-value found was {:.4}\".format(min(p_val)))\n",
    "    print(\"Autocorrelation detected.\")\n",
    "    print('-'*100)"
   ]
  },
  {
   "cell_type": "markdown",
   "id": "steady-integration",
   "metadata": {},
   "source": [
    "### 7.4 Examine Residual Distribution and Mean"
   ]
  },
  {
   "cell_type": "markdown",
   "id": "flying-lawsuit",
   "metadata": {},
   "source": [
    "Residuals are plotted using a qq plot and checked for normality. Adherence to the line indicates normally-distributed residuals. The mean residual is calculated to ensure it equals or is very close to 0."
   ]
  },
  {
   "cell_type": "code",
   "execution_count": 15,
   "id": "extreme-juvenile",
   "metadata": {
    "scrolled": true
   },
   "outputs": [
    {
     "data": {
      "image/png": "[encoded data removed]",
      "text/plain": [
       "<Figure size 432x288 with 1 Axes>"
      ]
     },
     "metadata": {},
     "output_type": "display_data"
    },
    {
     "name": "stdout",
     "output_type": "stream",
     "text": [
      "Mean residual: -3.643e-13\n"
     ]
    }
   ],
   "source": [
    "import pylab\n",
    "\n",
    "# Plot residuals\n",
    "sm.qqplot(pred.resid, line='s')\n",
    "pylab.show()\n",
    "\n",
    "# Check mean of residuals\n",
    "mean_residuals = sum(pred.resid)/ len(pred.resid)\n",
    "print(\"Mean residual: {:.4}\".format(mean_residuals))"
   ]
  },
  {
   "cell_type": "markdown",
   "id": "signal-question",
   "metadata": {},
   "source": [
    "### 7.5 Model Metrics"
   ]
  },
  {
   "cell_type": "code",
   "execution_count": 16,
   "id": "damaged-nation",
   "metadata": {},
   "outputs": [
    {
     "name": "stdout",
     "output_type": "stream",
     "text": [
      "                            OLS Regression Results                            \n",
      "==============================================================================\n",
      "Dep. Variable:              totalSale   R-squared:                       0.763\n",
      "Model:                            OLS   Adj. R-squared:                  0.759\n",
      "Method:                 Least Squares   F-statistic:                     204.3\n",
      "Date:                Fri, 05 Mar 2021   Prob (F-statistic):          4.04e-172\n",
      "Time:                        14:01:13   Log-Likelihood:                -3637.3\n",
      "No. Observations:                 581   AIC:                             7295.\n",
      "Df Residuals:                     571   BIC:                             7338.\n",
      "Df Model:                           9                                         \n",
      "Covariance Type:            nonrobust                                         \n",
      "==================================================================================\n",
      "                     coef    std err          t      P>|t|      [0.025      0.975]\n",
      "----------------------------------------------------------------------------------\n",
      "hoursToSale        0.3074      0.099      3.114      0.002       0.114       0.501\n",
      "Memory            13.5332      0.780     17.345      0.000      12.001      15.066\n",
      "processorSpeed   -63.2028     10.851     -5.825      0.000     -84.516     -41.890\n",
      "2014              77.0213     19.146      4.023      0.000      39.416     114.626\n",
      "2018             477.8464     27.795     17.192      0.000     423.254     532.438\n",
      "4                 87.3136     24.272      3.597      0.000      39.640     134.988\n",
      "2                  8.1138     19.863      0.408      0.683     -30.900      47.128\n",
      "3                 84.8494     31.921      2.658      0.008      22.153     147.546\n",
      "4                108.6229     74.747      1.453      0.147     -38.190     255.436\n",
      "const            224.0184     33.757      6.636      0.000     157.716     290.321\n",
      "==============================================================================\n",
      "Omnibus:                      200.923   Durbin-Watson:                   1.885\n",
      "Prob(Omnibus):                  0.000   Jarque-Bera (JB):             1913.898\n",
      "Skew:                           1.242   Prob(JB):                         0.00\n",
      "Kurtosis:                      11.538   Cond. No.                     1.99e+03\n",
      "==============================================================================\n",
      "\n",
      "Notes:\n",
      "[1] Standard Errors assume that the covariance matrix of the errors is correctly specified.\n",
      "[2] The condition number is large, 1.99e+03. This might indicate that there are\n",
      "strong multicollinearity or other numerical problems.\n"
     ]
    }
   ],
   "source": [
    "print(pred.summary())"
   ]
  },
  {
   "cell_type": "markdown",
   "id": "therapeutic-aviation",
   "metadata": {},
   "source": [
    "### 7.6 Error Measurements"
   ]
  },
  {
   "cell_type": "code",
   "execution_count": 17,
   "id": "naughty-dayton",
   "metadata": {
    "scrolled": true
   },
   "outputs": [
    {
     "name": "stdout",
     "output_type": "stream",
     "text": [
      "MSE 13397.6\n",
      "MAE 89.3917\n",
      "RMSE 115.748\n"
     ]
    }
   ],
   "source": [
    "import numpy as np\n",
    "from sklearn.metrics import mean_squared_error, mean_absolute_error\n",
    "\n",
    "YPred = model.predict(XTest)\n",
    "\n",
    "# mean squared error\n",
    "mse = mean_squared_error(YTest, YPred)\n",
    "\n",
    "# mean absolute error\n",
    "mae = mean_absolute_error(YTest, YPred)\n",
    "\n",
    "# root mean squared error\n",
    "rmse =  np.sqrt(mse)\n",
    "\n",
    "# display the output\n",
    "print(\"MSE {:.6}\".format(mse))\n",
    "print(\"MAE {:.6}\".format(mae))\n",
    "print(\"RMSE {:.6}\".format(rmse))"
   ]
  },
  {
   "cell_type": "markdown",
   "id": "satisfactory-rebel",
   "metadata": {},
   "source": [
    "## 8. Repeated K-Fold Cross Validation\n",
    "\n",
    "In order to validate the model against numerous training/test sets K-Fold cross validation is performed."
   ]
  },
  {
   "cell_type": "code",
   "execution_count": 19,
   "id": "military-milan",
   "metadata": {},
   "outputs": [
    {
     "name": "stdout",
     "output_type": "stream",
     "text": [
      "R2: 0.7283601563606384\n",
      "RMSE: -128.0057681237432\n"
     ]
    }
   ],
   "source": [
    "from sklearn.model_selection import RepeatedKFold\n",
    "from sklearn.model_selection import cross_val_score\n",
    "\n",
    "cv = RepeatedKFold(n_splits=10, n_repeats=3,random_state=1)\n",
    "\n",
    "r2 = cross_val_score(model,X,Y,cv=cv,n_jobs=1,scoring='r2')\n",
    "rmse = cross_val_score(model,X,Y,cv=cv,n_jobs=1,scoring='neg_root_mean_squared_error')\n",
    "\n",
    "print('R2: {}'.format(np.mean(r2)))\n",
    "print('RMSE: {}'.format(np.mean(rmse)))"
   ]
  },
  {
   "cell_type": "markdown",
   "id": "acting-bikini",
   "metadata": {},
   "source": [
    "## 9. Conclusion\n",
    "\n",
    "The multiple regression model yielded an adjusted R-squared of ~73%, indicating a moderately robust model. Although the RMSE indicated that on average the predicted value deviated from the true value by 128 USD, it must be considered that the standard deviation of price was 260 USD. Much of this variance which was not explained by the model likely includes factors such as image quality, listing quality, the quality of a used item being sold, and the inherent volatility of an auction-style sale. The model is therefore of some use in predicting the price at which a mac mini will sell for at auction on eBay."
   ]
  }
 ],
 "metadata": {
  "kernelspec": {
   "display_name": "Python 3",
   "language": "python",
   "name": "python3"
  },
  "language_info": {
   "codemirror_mode": {
    "name": "ipython",
    "version": 3
   },
   "file_extension": ".py",
   "mimetype": "text/x-python",
   "name": "python",
   "nbconvert_exporter": "python",
   "pygments_lexer": "ipython3",
   "version": "3.7.6"
  }
 },
 "nbformat": 4,
 "nbformat_minor": 5
}
